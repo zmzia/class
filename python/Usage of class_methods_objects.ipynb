{
 "cells": [
  {
   "cell_type": "code",
   "execution_count": 17,
   "id": "0095b196",
   "metadata": {},
   "outputs": [],
   "source": [
    "#import libraries\n",
    "import pandas as pd"
   ]
  },
  {
   "cell_type": "code",
   "execution_count": 18,
   "id": "5d25378b",
   "metadata": {},
   "outputs": [],
   "source": [
    "class Employee:\n",
    "    def __init__(self, input_file, output_file):\n",
    "        \"\"\" constructor - initialize the variables\"\"\"\n",
    "        self.input_file = input_file\n",
    "        self.output_file = output_file\n",
    "        self.data = pd.DataFrame()\n",
    "    \n",
    "    def read_csv(self):\n",
    "        \"\"\" read the input csv into a dataframe \"\"\"\n",
    "        self.data = pd.read_csv(self.input_file)\n",
    "        print(\"Data read from \", self.input_file) # first display\n",
    "    \n",
    "    def write_csv(self):\n",
    "        \"\"\" write from dataframe from to output csv file\"\"\"\n",
    "        self.data.to_csv(self.output_file, index=False)\n",
    "        print(\"Data written to \", self.output_file) # second display\n",
    "    \n",
    "    def add_row(self, row_data):\n",
    "        \"\"\" add new row to the dataframe\"\"\"\n",
    "        new_row = pd.DataFrame([row_data], columns=self.data.columns)\n",
    "        self.data = pd.concat([self.data, new_row])\n",
    "        self.write_csv()\n",
    "        print(\"New row added: \", row_data) # third display\n",
    "        \n",
    "    def get_and_push_data(self, new_data):\n",
    "        \"\"\"\n",
    "        Signature: Get data and push by adding new rows to the dataframe.\n",
    "        \n",
    "        Parameters:\n",
    "        new_data(list): List of dictionaries, where each dictionary represents a new row of data.\n",
    "        \"\"\"\n",
    "        for row_data in new_data:\n",
    "            self.add_row(row_data)\n",
    "            \n",
    "    #{\"EmployeeID\": 1, \"Name\": \"Amar\", \"Department\": \"HR\", \"Salary\": 60000},\n",
    "    #{\"EmployeeID\": 2, \"Name\": \"Akbar\", \"Department\": \"IT\", \"Salary\": 80000},\n",
    "    #{\"EmployeeID\": 3, \"Name\": \"Antony\", \"Department\": \"Finance\", \"Salary\": 75000}            \n",
    "        \n",
    "    def show_rec(self):\n",
    "        \"\"\" display dataframe\"\"\"\n",
    "        print(self.data)\n",
    "    "
   ]
  },
  {
   "cell_type": "code",
   "execution_count": 19,
   "id": "410dca59",
   "metadata": {},
   "outputs": [],
   "source": [
    "#dummy file with column headings of Tata Motors (tm)\n",
    "df = pd.DataFrame(columns = ['EmployeeID', 'Name', 'Department', 'Salary'])\n",
    "df.to_csv('tm_employee_input.csv',index=False)"
   ]
  },
  {
   "cell_type": "code",
   "execution_count": 20,
   "id": "65a0e602",
   "metadata": {},
   "outputs": [
    {
     "data": {
      "text/html": [
       "<div>\n",
       "<style scoped>\n",
       "    .dataframe tbody tr th:only-of-type {\n",
       "        vertical-align: middle;\n",
       "    }\n",
       "\n",
       "    .dataframe tbody tr th {\n",
       "        vertical-align: top;\n",
       "    }\n",
       "\n",
       "    .dataframe thead th {\n",
       "        text-align: right;\n",
       "    }\n",
       "</style>\n",
       "<table border=\"1\" class=\"dataframe\">\n",
       "  <thead>\n",
       "    <tr style=\"text-align: right;\">\n",
       "      <th></th>\n",
       "      <th>EmployeeID</th>\n",
       "      <th>Name</th>\n",
       "      <th>Department</th>\n",
       "      <th>Salary</th>\n",
       "    </tr>\n",
       "  </thead>\n",
       "  <tbody>\n",
       "  </tbody>\n",
       "</table>\n",
       "</div>"
      ],
      "text/plain": [
       "Empty DataFrame\n",
       "Columns: [EmployeeID, Name, Department, Salary]\n",
       "Index: []"
      ]
     },
     "execution_count": 20,
     "metadata": {},
     "output_type": "execute_result"
    }
   ],
   "source": [
    "df"
   ]
  },
  {
   "cell_type": "code",
   "execution_count": 21,
   "id": "2bec58d9",
   "metadata": {},
   "outputs": [
    {
     "name": "stdout",
     "output_type": "stream",
     "text": [
      "Data read from  tm_employee_input.csv\n",
      "Data written to  tm_employee_output.csv\n",
      "New row added:  {'EmployeeID': 1, 'Name': 'Amar', 'Department': 'HR', 'Salary': 60000}\n",
      "Data written to  tm_employee_output.csv\n",
      "New row added:  {'EmployeeID': 2, 'Name': 'Akbar', 'Department': 'IT', 'Salary': 80000}\n",
      "Data written to  tm_employee_output.csv\n",
      "New row added:  {'EmployeeID': 3, 'Name': 'Antony', 'Department': 'Finance', 'Salary': 75000}\n"
     ]
    }
   ],
   "source": [
    "# input an output csv file to pass parameters to class\n",
    "input_file = \"tm_employee_input.csv\"\n",
    "output_file = \"tm_employee_output.csv\"\n",
    "\n",
    "# new data to push into the empty stub and store as new output file\n",
    "new_data = [\n",
    "    {\"EmployeeID\": 1, \"Name\": \"Amar\", \"Department\": \"HR\", \"Salary\": 60000},\n",
    "    {\"EmployeeID\": 2, \"Name\": \"Akbar\", \"Department\": \"IT\", \"Salary\": 80000},\n",
    "    {\"EmployeeID\": 3, \"Name\": \"Antony\", \"Department\": \"Finance\", \"Salary\": 75000}\n",
    "]\n",
    "\n",
    "# create an object for the Employee class\n",
    "tm = Employee(input_file, output_file) \n",
    "\n",
    "# method called to read the csv \n",
    "tm.read_csv()\n",
    "\n",
    "#pass the new_data(3 rows) to method get_and_push_data\n",
    "tm.get_and_push_data(new_data)"
   ]
  },
  {
   "cell_type": "code",
   "execution_count": 22,
   "id": "d1a26482",
   "metadata": {},
   "outputs": [
    {
     "name": "stdout",
     "output_type": "stream",
     "text": [
      "  EmployeeID    Name Department Salary\n",
      "0          1    Amar         HR  60000\n",
      "0          2   Akbar         IT  80000\n",
      "0          3  Antony    Finance  75000\n"
     ]
    }
   ],
   "source": [
    "tm.show_rec()"
   ]
  },
  {
   "cell_type": "code",
   "execution_count": 23,
   "id": "b17743c0",
   "metadata": {},
   "outputs": [
    {
     "data": {
      "text/html": [
       "<div>\n",
       "<style scoped>\n",
       "    .dataframe tbody tr th:only-of-type {\n",
       "        vertical-align: middle;\n",
       "    }\n",
       "\n",
       "    .dataframe tbody tr th {\n",
       "        vertical-align: top;\n",
       "    }\n",
       "\n",
       "    .dataframe thead th {\n",
       "        text-align: right;\n",
       "    }\n",
       "</style>\n",
       "<table border=\"1\" class=\"dataframe\">\n",
       "  <thead>\n",
       "    <tr style=\"text-align: right;\">\n",
       "      <th></th>\n",
       "      <th>EmployeeID</th>\n",
       "      <th>Name</th>\n",
       "      <th>Department</th>\n",
       "      <th>Salary</th>\n",
       "    </tr>\n",
       "  </thead>\n",
       "  <tbody>\n",
       "    <tr>\n",
       "      <th>0</th>\n",
       "      <td>1</td>\n",
       "      <td>Amar</td>\n",
       "      <td>HR</td>\n",
       "      <td>60000</td>\n",
       "    </tr>\n",
       "    <tr>\n",
       "      <th>1</th>\n",
       "      <td>2</td>\n",
       "      <td>Akbar</td>\n",
       "      <td>IT</td>\n",
       "      <td>80000</td>\n",
       "    </tr>\n",
       "    <tr>\n",
       "      <th>2</th>\n",
       "      <td>3</td>\n",
       "      <td>Antony</td>\n",
       "      <td>Finance</td>\n",
       "      <td>75000</td>\n",
       "    </tr>\n",
       "  </tbody>\n",
       "</table>\n",
       "</div>"
      ],
      "text/plain": [
       "   EmployeeID    Name Department  Salary\n",
       "0           1    Amar         HR   60000\n",
       "1           2   Akbar         IT   80000\n",
       "2           3  Antony    Finance   75000"
      ]
     },
     "execution_count": 23,
     "metadata": {},
     "output_type": "execute_result"
    }
   ],
   "source": [
    "out = pd.read_csv(\"tm_employee_output.csv\")\n",
    "out"
   ]
  },
  {
   "cell_type": "code",
   "execution_count": 24,
   "id": "bb5a3bb5",
   "metadata": {},
   "outputs": [
    {
     "name": "stdout",
     "output_type": "stream",
     "text": [
      "Data written to  tm_employee_output.csv\n",
      "New row added:  {'EmployeeID': 4, 'Name': 'Riya', 'Department': 'HR', 'Salary': 50000}\n"
     ]
    }
   ],
   "source": [
    "new_data = [{\"EmployeeID\": 4, \"Name\": \"Riya\", \"Department\": \"HR\", \"Salary\": 50000}]\n",
    "tm.get_and_push_data(new_data)"
   ]
  },
  {
   "cell_type": "code",
   "execution_count": 25,
   "id": "b28277b4",
   "metadata": {},
   "outputs": [
    {
     "name": "stdout",
     "output_type": "stream",
     "text": [
      "  EmployeeID    Name Department Salary\n",
      "0          1    Amar         HR  60000\n",
      "0          2   Akbar         IT  80000\n",
      "0          3  Antony    Finance  75000\n",
      "0          4    Riya         HR  50000\n"
     ]
    }
   ],
   "source": [
    "tm.show_rec()"
   ]
  },
  {
   "cell_type": "code",
   "execution_count": null,
   "id": "adc7a634",
   "metadata": {},
   "outputs": [],
   "source": []
  },
  {
   "cell_type": "code",
   "execution_count": 26,
   "id": "b9048e7f",
   "metadata": {},
   "outputs": [],
   "source": [
    "#dummy file with column headings of Tata Consultancy Services (tcs)\n",
    "df = pd.DataFrame(columns = ['EmployeeID', 'Name', 'Department', 'Salary', \"EmpRef\"])\n",
    "df.to_csv('tcs_employee_input.csv',index=False)"
   ]
  },
  {
   "cell_type": "code",
   "execution_count": 28,
   "id": "db450913",
   "metadata": {},
   "outputs": [
    {
     "data": {
      "text/html": [
       "<div>\n",
       "<style scoped>\n",
       "    .dataframe tbody tr th:only-of-type {\n",
       "        vertical-align: middle;\n",
       "    }\n",
       "\n",
       "    .dataframe tbody tr th {\n",
       "        vertical-align: top;\n",
       "    }\n",
       "\n",
       "    .dataframe thead th {\n",
       "        text-align: right;\n",
       "    }\n",
       "</style>\n",
       "<table border=\"1\" class=\"dataframe\">\n",
       "  <thead>\n",
       "    <tr style=\"text-align: right;\">\n",
       "      <th></th>\n",
       "      <th>EmployeeID</th>\n",
       "      <th>Name</th>\n",
       "      <th>Department</th>\n",
       "      <th>Salary</th>\n",
       "      <th>EmpRef</th>\n",
       "    </tr>\n",
       "  </thead>\n",
       "  <tbody>\n",
       "  </tbody>\n",
       "</table>\n",
       "</div>"
      ],
      "text/plain": [
       "Empty DataFrame\n",
       "Columns: [EmployeeID, Name, Department, Salary, EmpRef]\n",
       "Index: []"
      ]
     },
     "execution_count": 28,
     "metadata": {},
     "output_type": "execute_result"
    }
   ],
   "source": [
    "pd.read_csv(\"tcs_employee_input.csv\")"
   ]
  },
  {
   "cell_type": "code",
   "execution_count": 29,
   "id": "ebe95778",
   "metadata": {},
   "outputs": [
    {
     "name": "stdout",
     "output_type": "stream",
     "text": [
      "Data read from  tcs_employee_input.csv\n",
      "Data written to  tcs_employee_output.csv\n",
      "New row added:  {'EmployeeID': 11, 'Name': 'Bheem', 'Department': 'HR', 'Salary': 100000, 'EmpRef': 'Internal'}\n",
      "Data written to  tcs_employee_output.csv\n",
      "New row added:  {'EmployeeID': 12, 'Name': 'Basha', 'Department': 'IT', 'Salary': 200000, 'EmpRef': 'Jobsite'}\n",
      "Data written to  tcs_employee_output.csv\n",
      "New row added:  {'EmployeeID': 13, 'Name': 'Benjamin', 'Department': 'Finance', 'Salary': 350000, 'EmpRef': 'Outsource'}\n",
      "  EmployeeID      Name Department  Salary     EmpRef\n",
      "0         11     Bheem         HR  100000   Internal\n",
      "0         12     Basha         IT  200000    Jobsite\n",
      "0         13  Benjamin    Finance  350000  Outsource\n"
     ]
    }
   ],
   "source": [
    "# input an output csv file to pass parameters to class\n",
    "input_file = \"tcs_employee_input.csv\"\n",
    "output_file = \"tcs_employee_output.csv\"\n",
    "\n",
    "# new data to push into the empty stub and store as new output file\n",
    "new_data = [\n",
    "    {\"EmployeeID\": 11, \"Name\": \"Bheem\", \"Department\": \"HR\", \"Salary\": 100000, \"EmpRef\": \"Internal\"},\n",
    "    {\"EmployeeID\": 12, \"Name\": \"Basha\", \"Department\": \"IT\", \"Salary\": 200000, \"EmpRef\": \"Jobsite\" },\n",
    "    {\"EmployeeID\": 13, \"Name\": \"Benjamin\", \"Department\": \"Finance\", \"Salary\": 350000, \"EmpRef\": \"Outsource\"}\n",
    "]\n",
    "\n",
    "# create an object for the Employee class\n",
    "tcs = Employee(input_file, output_file) \n",
    "\n",
    "# method called to read the csv \n",
    "tcs.read_csv()\n",
    "\n",
    "#pass the new_data(3 rows) to method get_and_push_data\n",
    "tcs.get_and_push_data(new_data)\n",
    "\n",
    "# to show tcs records\n",
    "tcs.show_rec()"
   ]
  },
  {
   "cell_type": "code",
   "execution_count": 30,
   "id": "a7380325",
   "metadata": {},
   "outputs": [
    {
     "name": "stdout",
     "output_type": "stream",
     "text": [
      "  EmployeeID    Name Department Salary\n",
      "0          1    Amar         HR  60000\n",
      "0          2   Akbar         IT  80000\n",
      "0          3  Antony    Finance  75000\n",
      "0          4    Riya         HR  50000\n"
     ]
    }
   ],
   "source": [
    "tm.show_rec()"
   ]
  },
  {
   "cell_type": "code",
   "execution_count": 31,
   "id": "236dedb7",
   "metadata": {},
   "outputs": [
    {
     "name": "stdout",
     "output_type": "stream",
     "text": [
      "  EmployeeID      Name Department  Salary     EmpRef\n",
      "0         11     Bheem         HR  100000   Internal\n",
      "0         12     Basha         IT  200000    Jobsite\n",
      "0         13  Benjamin    Finance  350000  Outsource\n"
     ]
    }
   ],
   "source": [
    "tcs.show_rec()"
   ]
  },
  {
   "cell_type": "code",
   "execution_count": 34,
   "id": "d4ce4d0b",
   "metadata": {},
   "outputs": [
    {
     "name": "stdout",
     "output_type": "stream",
     "text": [
      "Data written to  tcs_employee_output.csv\n",
      "New row added:  {'EmployeeID': 4, 'Name': 'Riya', 'Department': 'HR', 'Salary': 50000}\n",
      "  EmployeeID      Name Department  Salary     EmpRef\n",
      "0         11     Bheem         HR  100000   Internal\n",
      "0         12     Basha         IT  200000    Jobsite\n",
      "0         13  Benjamin    Finance  350000  Outsource\n",
      "0          4      Riya         HR   50000        NaN\n"
     ]
    }
   ],
   "source": [
    "new_data = [{\"EmployeeID\": 4, \"Name\": \"Riya\", \"Department\": \"HR\", \"Salary\": 50000}]\n",
    "tcs.get_and_push_data(new_data)\n",
    "# to show tcs records\n",
    "tcs.show_rec()"
   ]
  },
  {
   "cell_type": "code",
   "execution_count": null,
   "id": "7143be44",
   "metadata": {},
   "outputs": [],
   "source": []
  },
  {
   "cell_type": "code",
   "execution_count": 32,
   "id": "234a6468",
   "metadata": {
    "scrolled": true
   },
   "outputs": [
    {
     "data": {
      "text/html": [
       "<div>\n",
       "<style scoped>\n",
       "    .dataframe tbody tr th:only-of-type {\n",
       "        vertical-align: middle;\n",
       "    }\n",
       "\n",
       "    .dataframe tbody tr th {\n",
       "        vertical-align: top;\n",
       "    }\n",
       "\n",
       "    .dataframe thead th {\n",
       "        text-align: right;\n",
       "    }\n",
       "</style>\n",
       "<table border=\"1\" class=\"dataframe\">\n",
       "  <thead>\n",
       "    <tr style=\"text-align: right;\">\n",
       "      <th></th>\n",
       "      <th>EmployeeID</th>\n",
       "      <th>Name</th>\n",
       "      <th>Department</th>\n",
       "      <th>Salary</th>\n",
       "    </tr>\n",
       "  </thead>\n",
       "  <tbody>\n",
       "    <tr>\n",
       "      <th>0</th>\n",
       "      <td>1</td>\n",
       "      <td>Amar</td>\n",
       "      <td>HR</td>\n",
       "      <td>60000</td>\n",
       "    </tr>\n",
       "    <tr>\n",
       "      <th>1</th>\n",
       "      <td>2</td>\n",
       "      <td>Akbar</td>\n",
       "      <td>IT</td>\n",
       "      <td>80000</td>\n",
       "    </tr>\n",
       "    <tr>\n",
       "      <th>2</th>\n",
       "      <td>3</td>\n",
       "      <td>Antony</td>\n",
       "      <td>Finance</td>\n",
       "      <td>75000</td>\n",
       "    </tr>\n",
       "  </tbody>\n",
       "</table>\n",
       "</div>"
      ],
      "text/plain": [
       "   EmployeeID    Name Department  Salary\n",
       "0           1    Amar         HR   60000\n",
       "1           2   Akbar         IT   80000\n",
       "2           3  Antony    Finance   75000"
      ]
     },
     "execution_count": 32,
     "metadata": {},
     "output_type": "execute_result"
    }
   ],
   "source": [
    "new_data = [\n",
    "    {\"EmployeeID\": 1, \"Name\": \"Amar\", \"Department\": \"HR\", \"Salary\": 60000},\n",
    "    {\"EmployeeID\": 2, \"Name\": \"Akbar\", \"Department\": \"IT\", \"Salary\": 80000},\n",
    "    {\"EmployeeID\": 3, \"Name\": \"Antony\", \"Department\": \"Finance\", \"Salary\": 75000}\n",
    "]\n",
    "\n",
    "df1=pd.DataFrame(new_data) #tcs = Employee(input_file, output_file) \n",
    "df1"
   ]
  },
  {
   "cell_type": "code",
   "execution_count": 33,
   "id": "a8de8737",
   "metadata": {},
   "outputs": [
    {
     "data": {
      "text/html": [
       "<div>\n",
       "<style scoped>\n",
       "    .dataframe tbody tr th:only-of-type {\n",
       "        vertical-align: middle;\n",
       "    }\n",
       "\n",
       "    .dataframe tbody tr th {\n",
       "        vertical-align: top;\n",
       "    }\n",
       "\n",
       "    .dataframe thead th {\n",
       "        text-align: right;\n",
       "    }\n",
       "</style>\n",
       "<table border=\"1\" class=\"dataframe\">\n",
       "  <thead>\n",
       "    <tr style=\"text-align: right;\">\n",
       "      <th></th>\n",
       "      <th>EmployeeID</th>\n",
       "      <th>Name</th>\n",
       "      <th>Department</th>\n",
       "      <th>Salary</th>\n",
       "      <th>EmpRef</th>\n",
       "    </tr>\n",
       "  </thead>\n",
       "  <tbody>\n",
       "    <tr>\n",
       "      <th>0</th>\n",
       "      <td>11</td>\n",
       "      <td>Bheem</td>\n",
       "      <td>HR</td>\n",
       "      <td>100000</td>\n",
       "      <td>Internal</td>\n",
       "    </tr>\n",
       "    <tr>\n",
       "      <th>1</th>\n",
       "      <td>12</td>\n",
       "      <td>Basha</td>\n",
       "      <td>IT</td>\n",
       "      <td>200000</td>\n",
       "      <td>Jobsite</td>\n",
       "    </tr>\n",
       "    <tr>\n",
       "      <th>2</th>\n",
       "      <td>13</td>\n",
       "      <td>Benjamin</td>\n",
       "      <td>Finance</td>\n",
       "      <td>350000</td>\n",
       "      <td>Outsource</td>\n",
       "    </tr>\n",
       "  </tbody>\n",
       "</table>\n",
       "</div>"
      ],
      "text/plain": [
       "   EmployeeID      Name Department  Salary     EmpRef\n",
       "0          11     Bheem         HR  100000   Internal\n",
       "1          12     Basha         IT  200000    Jobsite\n",
       "2          13  Benjamin    Finance  350000  Outsource"
      ]
     },
     "execution_count": 33,
     "metadata": {},
     "output_type": "execute_result"
    }
   ],
   "source": [
    "new_data = [\n",
    "    {\"EmployeeID\": 11, \"Name\": \"Bheem\", \"Department\": \"HR\", \"Salary\": 100000, \"EmpRef\": \"Internal\"},\n",
    "    {\"EmployeeID\": 12, \"Name\": \"Basha\", \"Department\": \"IT\", \"Salary\": 200000, \"EmpRef\": \"Jobsite\" },\n",
    "    {\"EmployeeID\": 13, \"Name\": \"Benjamin\", \"Department\": \"Finance\", \"Salary\": 350000, \"EmpRef\": \"Outsource\"}\n",
    "]\n",
    "df2=pd.DataFrame(new_data)\n",
    "df2"
   ]
  },
  {
   "cell_type": "code",
   "execution_count": 38,
   "id": "923c054c",
   "metadata": {},
   "outputs": [
    {
     "data": {
      "text/plain": [
       "list"
      ]
     },
     "execution_count": 38,
     "metadata": {},
     "output_type": "execute_result"
    }
   ],
   "source": [
    "type(new_data)"
   ]
  }
 ],
 "metadata": {
  "kernelspec": {
   "display_name": "Python 3 (ipykernel)",
   "language": "python",
   "name": "python3"
  },
  "language_info": {
   "codemirror_mode": {
    "name": "ipython",
    "version": 3
   },
   "file_extension": ".py",
   "mimetype": "text/x-python",
   "name": "python",
   "nbconvert_exporter": "python",
   "pygments_lexer": "ipython3",
   "version": "3.11.5"
  }
 },
 "nbformat": 4,
 "nbformat_minor": 5
}
